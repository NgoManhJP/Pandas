{
 "cells": [
  {
   "cell_type": "code",
   "execution_count": 1,
   "metadata": {},
   "outputs": [],
   "source": [
    "import requests"
   ]
  },
  {
   "cell_type": "code",
   "execution_count": 13,
   "metadata": {},
   "outputs": [
    {
     "data": {
      "text/plain": [
       "'<?xml version=\"1.0\" encoding=\"UTF-8\" ?>\\n<result>\\n<version>1.2</version>\\n<address>東京都 府中市 日鋼町 1-1 Jタワー</address>\\n<coordinate>\\n<lat>35.67637</lat>\\n<lng>139.469937</lng>\\n<lat_dms>35,40,34.93</lat_dms>\\n<lng_dms>139,28,11.772</lng_dms>\\n</coordinate>\\n<open_location_code>8Q7XMFG9+GX</open_location_code>\\n<url>http://www.geocoding.jp/?q=%E6%9D%B1%E4%BA%AC%E9%83%BD%20%E5%BA%9C%E4%B8%AD%E5%B8%82%20%E6%97%A5%E9%8B%BC%E7%94%BA%201-1%20J%E3%82%BF%E3%83%AF%E3%83%BC</url>\\n<needs_to_verify>no</needs_to_verify>\\n<google_maps>東京都 府中市 日鋼町 1-1 Jタワー</google_maps>\\n</result>\\n'"
      ]
     },
     "execution_count": 13,
     "metadata": {},
     "output_type": "execute_result"
    }
   ],
   "source": [
    "#full_adress = \"東京都新宿区西新宿２丁目８−１\" #東京都庁の住所である\n",
    "full_adress = \"東京都 府中市 日鋼町 1-1 Jタワー\"\n",
    "\n",
    "url = 'http://www.geocoding.jp/api/'\n",
    "payload = {'q': full_adress}\n",
    "result = requests.get(url, params=payload)\n",
    "result.text"
   ]
  },
  {
   "cell_type": "code",
   "execution_count": 7,
   "metadata": {},
   "outputs": [],
   "source": [
    "import xmltodict"
   ]
  },
  {
   "cell_type": "code",
   "execution_count": 14,
   "metadata": {},
   "outputs": [
    {
     "data": {
      "text/plain": [
       "OrderedDict([('result',\n",
       "              OrderedDict([('version', '1.2'),\n",
       "                           ('address', '東京都 府中市 日鋼町 1-1 Jタワー'),\n",
       "                           ('coordinate',\n",
       "                            OrderedDict([('lat', '35.67637'),\n",
       "                                         ('lng', '139.469937'),\n",
       "                                         ('lat_dms', '35,40,34.93'),\n",
       "                                         ('lng_dms', '139,28,11.772')])),\n",
       "                           ('open_location_code', '8Q7XMFG9+GX'),\n",
       "                           ('url',\n",
       "                            'http://www.geocoding.jp/?q=%E6%9D%B1%E4%BA%AC%E9%83%BD%20%E5%BA%9C%E4%B8%AD%E5%B8%82%20%E6%97%A5%E9%8B%BC%E7%94%BA%201-1%20J%E3%82%BF%E3%83%AF%E3%83%BC'),\n",
       "                           ('needs_to_verify', 'no'),\n",
       "                           ('google_maps', '東京都 府中市 日鋼町 1-1 Jタワー')]))])"
      ]
     },
     "execution_count": 14,
     "metadata": {},
     "output_type": "execute_result"
    }
   ],
   "source": [
    "resultdict = xmltodict.parse(result.text)\n",
    "resultdict"
   ]
  },
  {
   "cell_type": "code",
   "execution_count": 15,
   "metadata": {},
   "outputs": [
    {
     "name": "stdout",
     "output_type": "stream",
     "text": [
      "35.67637\n",
      "139.469937\n"
     ]
    }
   ],
   "source": [
    "print(resultdict[\"result\"][\"coordinate\"][\"lat\"])\n",
    "print(resultdict[\"result\"][\"coordinate\"][\"lng\"])"
   ]
  }
 ],
 "metadata": {
  "kernelspec": {
   "display_name": "Python 3",
   "language": "python",
   "name": "python3"
  },
  "language_info": {
   "codemirror_mode": {
    "name": "ipython",
    "version": 3
   },
   "file_extension": ".py",
   "mimetype": "text/x-python",
   "name": "python",
   "nbconvert_exporter": "python",
   "pygments_lexer": "ipython3",
   "version": "3.6.4"
  }
 },
 "nbformat": 4,
 "nbformat_minor": 2
}
