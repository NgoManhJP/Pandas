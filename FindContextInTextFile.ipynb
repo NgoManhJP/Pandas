{
 "cells": [
  {
   "cell_type": "code",
   "execution_count": 49,
   "metadata": {},
   "outputs": [],
   "source": [
    "import pandas as pd\n",
    "import os "
   ]
  },
  {
   "cell_type": "code",
   "execution_count": 51,
   "metadata": {},
   "outputs": [
    {
     "data": {
      "text/plain": [
       "['.git',\n",
       " '.gitattributes',\n",
       " '.ipynb_checkpoints',\n",
       " 'Addr',\n",
       " 'DataFrames.ipynb',\n",
       " 'Gou',\n",
       " 'largeFile.txt',\n",
       " 'Pnt',\n",
       " 'Series.ipynb',\n",
       " 'Untitled.ipynb']"
      ]
     },
     "execution_count": 51,
     "metadata": {},
     "output_type": "execute_result"
    }
   ],
   "source": [
    "os.listdir()"
   ]
  },
  {
   "cell_type": "code",
   "execution_count": 80,
   "metadata": {},
   "outputs": [],
   "source": [
    "inputSt = '13234456765123'"
   ]
  },
  {
   "cell_type": "code",
   "execution_count": 86,
   "metadata": {},
   "outputs": [
    {
     "name": "stdout",
     "output_type": "stream",
     "text": [
      "13\t234\t456\t765\t123\n"
     ]
    }
   ],
   "source": [
    "mySt = inputSt[0:2] + '\\t' + inputSt[2:5]  + '\\t' + inputSt[5:8]   + '\\t' + inputSt[8:11]   + '\\t' + inputSt[11:14] \n",
    "print(mySt)"
   ]
  },
  {
   "cell_type": "code",
   "execution_count": 93,
   "metadata": {},
   "outputs": [
    {
     "name": "stdout",
     "output_type": "stream",
     "text": [
      "<class 'list'>\n",
      "13\t234\t456\t765\t123\n",
      "\n",
      "13\t234\t456\t765\t123\t日鋼町\t0001\t0001 Jタワー\n",
      "\n",
      "13\t234\t456\t765\t123\t日鋼町\t0001\t0001 Jタワー\n",
      "\n",
      "13\t234\t456\t765\t123\t日鋼町\t0001\t0001 Jタワー\n",
      "\n",
      "13\t234\t456\t765\t123\t日鋼町\t0001\t0001 Jタワー\n",
      "\n"
     ]
    }
   ],
   "source": [
    "mString = '13\t234'\n",
    "mAddrDir = 'E:\\IT\\Python\\GitHub\\Pandas\\Pandas\\Addr'\n",
    "mPntDir = 'E:\\IT\\Python\\GitHub\\Pandas\\Pandas\\Pnt'\n",
    "mGouDir = 'E:\\IT\\Python\\GitHub\\Pandas\\Pandas\\Gou'\n",
    "\n",
    "mResult = []\n",
    "print(type(mResult))\n",
    "for mFile in os.listdir(mAddrDir):\n",
    "    if mFile[-3:] == 'txt':\n",
    "        with open(mFile, 'r') as inF:\n",
    "            for line in inF:\n",
    "                if mString in line:\n",
    "                    mResult.append(line )\n",
    "                    print(line)"
   ]
  },
  {
   "cell_type": "code",
   "execution_count": 99,
   "metadata": {},
   "outputs": [
    {
     "data": {
      "text/plain": [
       "['13\\t234\\t456\\t765\\t123\\n',\n",
       " '13\\t234\\t456\\t765\\t123\\t日鋼町\\t0001\\t0001 Jタワー\\n',\n",
       " '13\\t234\\t456\\t765\\t123\\t日鋼町\\t0001\\t0001 Jタワー\\n',\n",
       " '13\\t234\\t456\\t765\\t123\\t日鋼町\\t0001\\t0001 Jタワー\\n',\n",
       " '13\\t234\\t456\\t765\\t123\\t日鋼町\\t0001\\t0001 Jタワー\\n']"
      ]
     },
     "execution_count": 99,
     "metadata": {},
     "output_type": "execute_result"
    }
   ],
   "source": [
    "mResult"
   ]
  }
 ],
 "metadata": {
  "kernelspec": {
   "display_name": "Python 3",
   "language": "python",
   "name": "python3"
  },
  "language_info": {
   "codemirror_mode": {
    "name": "ipython",
    "version": 3
   },
   "file_extension": ".py",
   "mimetype": "text/x-python",
   "name": "python",
   "nbconvert_exporter": "python",
   "pygments_lexer": "ipython3",
   "version": "3.6.4"
  }
 },
 "nbformat": 4,
 "nbformat_minor": 2
}
